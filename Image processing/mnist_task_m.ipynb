{
 "cells": [
  {
   "cell_type": "markdown",
   "metadata": {},
   "source": [
    "#### Capstone Project - Image Processin (MNIST) - By Alex Chu\n",
    "\n",
    "The MNIST database (Modified National Institute of Standards and Technology database) is a large database of handwritten digits that is commonly used for training various image processing systems.\n",
    "\n",
    "The dataset can be accessed from SKLearn (from sklearn.datasets import load_digits)\n",
    "\n",
    "In this project, I will train a model to recognise the digits.\n",
    "The data is split into the training data into a training and test set. \n",
    "I will create a classification model by using RandomForestClassifier.\n",
    "A parameter will be tuned and the best value for the parameter will be chosen.\n",
    "A confusion matrix will also be created.\n",
    "I will reprot which classes the model struggles with the most with the accuracy, precision, recall, and f1-score.\n"
   ]
  },
  {
   "cell_type": "code",
   "execution_count": 1,
   "metadata": {
    "id": "4r6opegAv77K"
   },
   "outputs": [],
   "source": [
    "import numpy as np\n",
    "\n",
    "import matplotlib.pyplot as plt\n",
    "from sklearn.datasets import load_digits\n",
    "digits = load_digits()"
   ]
  },
  {
   "cell_type": "markdown",
   "metadata": {},
   "source": [
    "Explore the data shape:"
   ]
  },
  {
   "cell_type": "code",
   "execution_count": 2,
   "metadata": {
    "id": "2AQQkGIpv77b",
    "outputId": "c18b548f-ce18-4de4-8fbf-7e3745651825"
   },
   "outputs": [
    {
     "name": "stdout",
     "output_type": "stream",
     "text": [
      "Image Data Shape (1797, 64)\n",
      "Label Data Shape (1797,)\n"
     ]
    }
   ],
   "source": [
    "# Print to show there are 1797 images (8 by 8 images for a dimensionality of 64)\n",
    "print(\"Image Data Shape\" , digits.data.shape)\n",
    "\n",
    "# Print to show there are 1797 labels (integers from 0-9)\n",
    "print(\"Label Data Shape\", digits.target.shape)"
   ]
  },
  {
   "cell_type": "code",
   "execution_count": 3,
   "metadata": {
    "id": "XdGEdpC4v771",
    "outputId": "9c09d62c-30b0-468c-ae38-8c511ac889f6",
    "scrolled": true
   },
   "outputs": [
    {
     "data": {
      "image/png": "[encoded data removed]",
      "text/plain": [
       "<Figure size 2000x400 with 5 Axes>"
      ]
     },
     "metadata": {},
     "output_type": "display_data"
    }
   ],
   "source": [
    "plt.figure(figsize=(20,4))\n",
    "for index, (image, label) in enumerate(zip(digits.data[0:5], digits.target[0:5])):\n",
    "    plt.subplot(1, 5, index + 1)\n",
    "    plt.imshow(np.reshape(image, (8,8)), cmap=plt.cm.gray)\n",
    "    plt.title('Training: %i\\n' % label, fontsize = 20)"
   ]
  },
  {
   "cell_type": "markdown",
   "metadata": {},
   "source": [
    "###  Image Processing"
   ]
  },
  {
   "cell_type": "markdown",
   "metadata": {},
   "source": [
    "#### Load the MNIST dataset. Use a library such as SKLearn to access the dataset (from sklearn.datasets import load_digits)."
   ]
  },
  {
   "cell_type": "code",
   "execution_count": 4,
   "metadata": {},
   "outputs": [],
   "source": [
    "# Impport libraries\n",
    "import numpy as np\n",
    "from sklearn.ensemble import RandomForestClassifier\n",
    "from sklearn.metrics import precision_score, recall_score, f1_score, accuracy_score, confusion_matrix\n",
    "from sklearn.model_selection import GridSearchCV, train_test_split\n",
    "from sklearn.datasets import load_digits\n"
   ]
  },
  {
   "cell_type": "code",
   "execution_count": 5,
   "metadata": {},
   "outputs": [],
   "source": [
    "# Load the MNIST dataset\n",
    "digits = load_digits()"
   ]
  },
  {
   "cell_type": "markdown",
   "metadata": {},
   "source": [
    "#### Split the training data into a training and test set. Add a comment explaining the purpose of the train and test sets"
   ]
  },
  {
   "cell_type": "code",
   "execution_count": 6,
   "metadata": {},
   "outputs": [],
   "source": [
    "# Split the data into training, development, and test sets\n",
    "X_train, X_test, y_train, y_test = train_test_split(digits.data, digits.target, test_size=0.2, random_state=42)\n",
    "X_train, X_dev, y_train, y_dev = train_test_split(X_train, y_train, test_size=0.2, random_state=42)"
   ]
  },
  {
   "cell_type": "markdown",
   "metadata": {},
   "source": [
    "Split the training data into a training set and a test set. In machine learning, the purpose of the train and test sets is as follows:\n",
    "\n",
    "Training set: Used to train the model, i.e., to fit the model's parameters based on the input features and corresponding target labels.\n",
    "\n",
    "Test set: Used to evaluate the trained model's performance on unseen data. It helps assess how well the model generalizes to new, unseen samples."
   ]
  },
  {
   "cell_type": "markdown",
   "metadata": {},
   "source": [
    "#### Use the RandomForestClassifier built into sklearn to create a classification model.\n",
    "####  Picking a parameter to tune, and explain the reasons."
   ]
  },
  {
   "cell_type": "markdown",
   "metadata": {},
   "source": [
    "max_depth will be chosen as parameter to tune.\n",
    "\n",
    "The reason for selecting 'max_depth' as a parameter to tune is that it directly affects the complexity of the decision trees in the Random Forest model. A lower value of 'max_depth' can lead to simpler trees with fewer levels, reducing the risk of overfitting. On the other hand, a higher value of 'max_depth' allows the trees to grow deeper and capture more complex relationships in the data. By including different values of 'max_depth' in the parameter grid, we can systematically explore the trade-off between model complexity and performance to find the optimal value for your specific problem."
   ]
  },
  {
   "cell_type": "code",
   "execution_count": 7,
   "metadata": {
    "scrolled": true
   },
   "outputs": [
    {
     "data": {
      "text/plain": [
       "GridSearchCV(cv=5, estimator=RandomForestClassifier(random_state=42),\n",
       "             param_grid={'max_depth': [5, 10, 15, 20, 25, 30, 35, 40]})"
      ]
     },
     "execution_count": 7,
     "metadata": {},
     "output_type": "execute_result"
    }
   ],
   "source": [
    "# Define the parameter grid for grid search\n",
    "param_grid = {'max_depth': [5, 10, 15, 20, 25, 30, 35, 40]}\n",
    "\n",
    "# Create the RandomForestClassifier instance\n",
    "clf = RandomForestClassifier(random_state=42)\n",
    "\n",
    "# Perform grid search and model selection using the development set\n",
    "grid_search = GridSearchCV(clf, param_grid, cv=5)\n",
    "grid_search.fit(X_train, y_train)"
   ]
  },
  {
   "cell_type": "markdown",
   "metadata": {},
   "source": [
    "#### Choosing the value for the parameter to set for testing on the test data"
   ]
  },
  {
   "cell_type": "code",
   "execution_count": 8,
   "metadata": {},
   "outputs": [
    {
     "data": {
      "text/plain": [
       "20"
      ]
     },
     "execution_count": 8,
     "metadata": {},
     "output_type": "execute_result"
    }
   ],
   "source": [
    "# Get the best parameter and model\n",
    "best_max_depth = grid_search.best_params_['max_depth']\n",
    "best_model = grid_search.best_estimator_\n",
    "\n",
    "# To show which is the best max_depth\n",
    "best_max_depth"
   ]
  },
  {
   "cell_type": "markdown",
   "metadata": {},
   "source": [
    "When selecting a value for the parameter to test on the test data, it is generally recommended to choose the best parameter obtained from the grid search process. The grid search process evaluates the performance of the model using cross-validation on the development set for each value in the parameter grid. It selects the parameter value that yields the best performance according to the chosen evaluation metric. By using this best parameter value on the test data, we can assess how well the model generalizes to unseen instances.\n",
    "\n",
    "Therefore, the best max_depth (20) is set on the model for the test."
   ]
  },
  {
   "cell_type": "code",
   "execution_count": 9,
   "metadata": {
    "scrolled": true
   },
   "outputs": [
    {
     "name": "stdout",
     "output_type": "stream",
     "text": [
      "Best max_depth: 20\n",
      "Development Set Accuracy: 0.9895833333333334\n",
      "Development Set Precision: [1.         1.         1.         1.         1.         0.96428571\n",
      " 1.         0.96774194 0.95238095 1.        ]\n",
      "Development Set Recall: [1.         1.         1.         1.         0.96428571 1.\n",
      " 1.         0.96774194 0.95238095 1.        ]\n",
      "Development Set F1-Score: [1.         1.         1.         1.         0.98181818 0.98181818\n",
      " 1.         0.96774194 0.95238095 1.        ]\n",
      "Development Set Confusion Matrix:\n",
      "[[23  0  0  0  0  0  0  0  0  0]\n",
      " [ 0 35  0  0  0  0  0  0  0  0]\n",
      " [ 0  0 38  0  0  0  0  0  0  0]\n",
      " [ 0  0  0 32  0  0  0  0  0  0]\n",
      " [ 0  0  0  0 27  0  0  1  0  0]\n",
      " [ 0  0  0  0  0 27  0  0  0  0]\n",
      " [ 0  0  0  0  0  0 25  0  0  0]\n",
      " [ 0  0  0  0  0  0  0 30  1  0]\n",
      " [ 0  0  0  0  0  1  0  0 20  0]\n",
      " [ 0  0  0  0  0  0  0  0  0 28]]\n"
     ]
    }
   ],
   "source": [
    "# Evaluate the best model on the development set\n",
    "y_pred_dev = best_model.predict(X_dev)\n",
    "accuracy_dev = accuracy_score(y_dev, y_pred_dev)\n",
    "precision_dev = precision_score(y_dev, y_pred_dev, average=None)\n",
    "recall_dev = recall_score(y_dev, y_pred_dev, average=None)\n",
    "f1_dev = f1_score(y_dev, y_pred_dev, average=None)\n",
    "confusion_dev = confusion_matrix(y_dev, y_pred_dev)\n",
    "\n",
    "# Print out bext max_depth, the development accuracy, precision, recall, F1-score on each class and confusion matrix\n",
    "print(\"Best max_depth:\", best_max_depth)\n",
    "print(\"Development Set Accuracy:\", accuracy_dev)\n",
    "print(\"Development Set Precision:\", precision_dev)\n",
    "print(\"Development Set Recall:\", recall_dev)\n",
    "print(\"Development Set F1-Score:\", f1_dev)\n",
    "print(\"Development Set Confusion Matrix:\")\n",
    "print(confusion_dev)"
   ]
  },
  {
   "cell_type": "markdown",
   "metadata": {},
   "source": [
    "#### Printing the confusion matrix for your Random Forest model on the test set."
   ]
  },
  {
   "cell_type": "code",
   "execution_count": 10,
   "metadata": {
    "scrolled": true
   },
   "outputs": [
    {
     "name": "stdout",
     "output_type": "stream",
     "text": [
      "Test Set Accuracy: 0.9666666666666667\n",
      "Test Set Precision: [1.         0.93333333 1.         0.97058824 0.9787234  0.93617021\n",
      " 0.97142857 0.97058824 1.         0.925     ]\n",
      "Test Set Recall: [0.96969697 1.         1.         0.97058824 1.         0.93617021\n",
      " 0.97142857 0.97058824 0.93333333 0.925     ]\n",
      "Test Set F1-Score: [0.98461538 0.96551724 1.         0.97058824 0.98924731 0.93617021\n",
      " 0.97142857 0.97058824 0.96551724 0.925     ]\n",
      "Test Set Confusion Matrix:\n",
      "[[32  0  0  0  1  0  0  0  0  0]\n",
      " [ 0 28  0  0  0  0  0  0  0  0]\n",
      " [ 0  0 33  0  0  0  0  0  0  0]\n",
      " [ 0  0  0 33  0  1  0  0  0  0]\n",
      " [ 0  0  0  0 46  0  0  0  0  0]\n",
      " [ 0  0  0  0  0 44  1  0  0  2]\n",
      " [ 0  0  0  0  0  1 34  0  0  0]\n",
      " [ 0  0  0  0  0  0  0 33  0  1]\n",
      " [ 0  2  0  0  0  0  0  0 28  0]\n",
      " [ 0  0  0  1  0  1  0  1  0 37]]\n"
     ]
    }
   ],
   "source": [
    "# Evaluate the best model on the test set\n",
    "y_pred = best_model.predict(X_test)\n",
    "accuracy = accuracy_score(y_test, y_pred)\n",
    "precision = precision_score(y_test, y_pred, average=None)\n",
    "recall = recall_score(y_test, y_pred, average=None)\n",
    "f1 = f1_score(y_test, y_pred, average=None)\n",
    "confusion = confusion_matrix(y_test, y_pred)\n",
    "\n",
    "# Print out test set accuracy, precision, recall, F1-score on each class and confusion matrix\n",
    "print(\"Test Set Accuracy:\", accuracy)\n",
    "print(\"Test Set Precision:\", precision)\n",
    "print(\"Test Set Recall:\", recall)\n",
    "print(\"Test Set F1-Score:\", f1)\n",
    "print(\"Test Set Confusion Matrix:\")\n",
    "print(confusion)"
   ]
  },
  {
   "cell_type": "markdown",
   "metadata": {},
   "source": [
    "#### Reporting which classes the model struggles with the most.\n"
   ]
  },
  {
   "cell_type": "code",
   "execution_count": 11,
   "metadata": {
    "scrolled": true
   },
   "outputs": [
    {
     "name": "stdout",
     "output_type": "stream",
     "text": [
      "Class 0: Precision=1.0, Recall=0.9696969696969697, F1-Score=0.9846153846153847, Accuracy=0.9696969696969697\n",
      "Class 1: Precision=0.9333333333333333, Recall=1.0, F1-Score=0.9655172413793104, Accuracy=1.0\n",
      "Class 2: Precision=1.0, Recall=1.0, F1-Score=1.0, Accuracy=1.0\n",
      "Class 3: Precision=0.9705882352941176, Recall=0.9705882352941176, F1-Score=0.9705882352941176, Accuracy=0.9705882352941176\n",
      "Class 4: Precision=0.9787234042553191, Recall=1.0, F1-Score=0.989247311827957, Accuracy=1.0\n",
      "Class 5: Precision=0.9361702127659575, Recall=0.9361702127659575, F1-Score=0.9361702127659575, Accuracy=0.9361702127659575\n",
      "Class 6: Precision=0.9714285714285714, Recall=0.9714285714285714, F1-Score=0.9714285714285714, Accuracy=0.9714285714285714\n",
      "Class 7: Precision=0.9705882352941176, Recall=0.9705882352941176, F1-Score=0.9705882352941176, Accuracy=0.9705882352941176\n",
      "Class 8: Precision=1.0, Recall=0.9333333333333333, F1-Score=0.9655172413793104, Accuracy=0.9333333333333333\n",
      "Class 9: Precision=0.925, Recall=0.925, F1-Score=0.925, Accuracy=0.925\n"
     ]
    }
   ],
   "source": [
    "# Print precision, recall, f1-score, and accuracy for each class\n",
    "for i in range(len(precision)):\n",
    "    class_accuracy = accuracy_score(y_test[y_test == i], y_pred[y_test == i])\n",
    "    print(\"Class {}: Precision={}, Recall={}, F1-Score={}, Accuracy={}\".format(i, precision[i], recall[i], f1[i], class_accuracy))\n"
   ]
  },
  {
   "cell_type": "code",
   "execution_count": 12,
   "metadata": {},
   "outputs": [
    {
     "name": "stdout",
     "output_type": "stream",
     "text": [
      "Class with lowest precision: 9\n",
      "Class with lowest recall: 9\n",
      "Class with lowest F1-score: 9\n",
      "Class with lowest accuracy: 0\n"
     ]
    }
   ],
   "source": [
    "# Calculate per-class metrics\n",
    "class_labels = np.unique(digits.target)\n",
    "class_precision = precision_score(y_test, y_pred, average=None)\n",
    "class_recall = recall_score(y_test, y_pred, average=None)\n",
    "class_f1 = f1_score(y_test, y_pred, average=None)\n",
    "class_accuracy = accuracy_score(y_test, y_pred)\n",
    "\n",
    "# Find classes with lowest precision, recall, F1-score, and accuracy\n",
    "worst_precision_class = class_labels[np.argmin(class_precision)]\n",
    "worst_recall_class = class_labels[np.argmin(class_recall)]\n",
    "worst_f1_class = class_labels[np.argmin(class_f1)]\n",
    "worst_accuracy_class = class_labels[np.argmin(class_accuracy)]\n",
    "\n",
    "# Print the class with lowest precision, recall, F1-score, and accuracy\n",
    "print(\"Class with lowest precision:\", worst_precision_class)\n",
    "print(\"Class with lowest recall:\", worst_recall_class)\n",
    "print(\"Class with lowest F1-score:\", worst_f1_class)\n",
    "print(\"Class with lowest accuracy:\", worst_accuracy_class)"
   ]
  },
  {
   "cell_type": "markdown",
   "metadata": {},
   "source": [
    "Based on the provided results, it appears that the model struggles the most with Class 9. This can be determined by examining the precision, recall, F1-score, and accuracy values for each class.\n",
    "\n",
    "The precision, recall, F1-score, and accuracy for Class 9 are as follows:\n",
    "\n",
    "Precision: 0.925\n",
    "Recall: 0.925\n",
    "F1-Score: 0.925\n",
    "Accuracy: 0.925\n",
    "Comparing these values with the other classes, we can see that Class 9 has the lowest precision, recall, F1-score, and accuracy among all the classes.\n",
    "\n",
    "Therefore, the model struggles the most with correctly classifying instances belonging to Class 9."
   ]
  },
  {
   "cell_type": "markdown",
   "metadata": {},
   "source": [
    "#### Reporting the accuracy, precision, recall, and f1-score (HINT: use average=”macro” in precision_score, recall_score and f1_score from sklearn)."
   ]
  },
  {
   "cell_type": "code",
   "execution_count": 13,
   "metadata": {},
   "outputs": [
    {
     "name": "stdout",
     "output_type": "stream",
     "text": [
      "Accuracy: 0.9666666666666667\n",
      "Macro Precision: 0.9685831992371418\n",
      "Macro Recall: 0.9676805557813069\n",
      "Macro F1-Score: 0.9678672433984727\n"
     ]
    }
   ],
   "source": [
    "# Calculate precision, recall, f1-score, and accuracy using the 'macro' averaging\n",
    "macro_precision = precision_score(y_test, y_pred, average='macro')\n",
    "macro_recall = recall_score(y_test, y_pred, average='macro')\n",
    "macro_f1 = f1_score(y_test, y_pred, average='macro')\n",
    "accuracy = accuracy_score(y_test, y_pred)\n",
    "\n",
    "# Print the results\n",
    "print(\"Accuracy:\", accuracy)\n",
    "print(\"Macro Precision:\", macro_precision)\n",
    "print(\"Macro Recall:\", macro_recall)\n",
    "print(\"Macro F1-Score:\", macro_f1)"
   ]
  },
  {
   "cell_type": "markdown",
   "metadata": {},
   "source": [
    "#### Additional exploration:\n",
    "I am curious about training and development accuracies acrosss different max_depth, so I am trying to plot a graph showing the accuracy."
   ]
  },
  {
   "cell_type": "code",
   "execution_count": 14,
   "metadata": {},
   "outputs": [
    {
     "data": {
      "image/png": "[encoded data removed]",
      "text/plain": [
       "<Figure size 640x480 with 1 Axes>"
      ]
     },
     "metadata": {},
     "output_type": "display_data"
    },
    {
     "name": "stdout",
     "output_type": "stream",
     "text": [
      "Best max_depth: 10\n"
     ]
    }
   ],
   "source": [
    "# Define the max_depth values to try\n",
    "max_depth_values = [5, 10, 15, 20]\n",
    "\n",
    "# Initialize lists to store training and development accuracies\n",
    "train_accuracies = []\n",
    "dev_accuracies = []\n",
    "\n",
    "# Train random forests with different max_depth values\n",
    "for max_depth in max_depth_values:\n",
    "    # Train the random forest\n",
    "    clf = RandomForestClassifier(max_depth=max_depth, random_state=42)\n",
    "    clf.fit(X_train, y_train)\n",
    "\n",
    "    # Compute accuracies on training and development sets\n",
    "    train_accuracy = clf.score(X_train, y_train)\n",
    "    dev_accuracy = clf.score(X_dev, y_dev)\n",
    "\n",
    "    # Store accuracies\n",
    "    train_accuracies.append(train_accuracy)\n",
    "    dev_accuracies.append(dev_accuracy)\n",
    "\n",
    "# Find the best max_depth value based on development accuracy\n",
    "best_max_depth = max_depth_values[np.argmax(dev_accuracies)]\n",
    "\n",
    "# Plot the training and development accuracies\n",
    "plt.plot(max_depth_values, train_accuracies, label=\"Training Accuracy\")\n",
    "plt.plot(max_depth_values, dev_accuracies, label=\"Development Accuracy\")\n",
    "plt.xlabel(\"Max Depth\")\n",
    "plt.ylabel(\"Accuracy\")\n",
    "plt.legend()\n",
    "plt.title(\"Training and Development Accuracies vs. Max Depth\")\n",
    "plt.show()\n",
    "\n",
    "print(\"Best max_depth:\", best_max_depth)"
   ]
  },
  {
   "cell_type": "markdown",
   "metadata": {},
   "source": [
    "Interestingly, the best max_depth in this method is different from grid search with cross-validation.\n",
    "\n",
    "Grid search approach is preferred:\n",
    "\n",
    "Guarding against overfitting: Cross-validation helps to estimate how well the model will generalize to unseen data. By evaluating the model's performance on multiple subsets of the data, it provides a more robust assessment of the model's performance across different max_depth values. This helps prevent overfitting, where the model performs well on the training data but poorly on new data.\n",
    "\n",
    "While looking at the highest development accuracy alone can give you a rough idea of the best max_depth, it may not always lead to the most optimal or generalizable model. Grid search with cross-validation offers a more robust and systematic approach to selecting the best hyperparameters, including max_depth, by considering the model's performance across different parameter values and assessing its ability to generalize to unseen data."
   ]
  }
 ],
 "metadata": {
  "colab": {
   "provenance": []
  },
  "kernelspec": {
   "display_name": "Python 3 (ipykernel)",
   "language": "python",
   "name": "python3"
  },
  "language_info": {
   "codemirror_mode": {
    "name": "ipython",
    "version": 3
   },
   "file_extension": ".py",
   "mimetype": "text/x-python",
   "name": "python",
   "nbconvert_exporter": "python",
   "pygments_lexer": "ipython3",
   "version": "3.7.2"
  }
 },
 "nbformat": 4,
 "nbformat_minor": 1
}
